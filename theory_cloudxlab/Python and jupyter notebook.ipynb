{
 "cells": [
  {
   "cell_type": "code",
   "execution_count": 2,
   "metadata": {},
   "outputs": [
    {
     "name": "stdout",
     "output_type": "stream",
     "text": [
      "hellow world\n"
     ]
    }
   ],
   "source": [
    "print ('hellow world')"
   ]
  },
  {
   "cell_type": "code",
   "execution_count": 3,
   "metadata": {},
   "outputs": [
    {
     "name": "stdout",
     "output_type": "stream",
     "text": [
      "hellow world\n",
      "pranav starting python\n"
     ]
    }
   ],
   "source": [
    "print ('hellow world')\n",
    "print ('pranav starting python')"
   ]
  },
  {
   "cell_type": "code",
   "execution_count": 4,
   "metadata": {},
   "outputs": [],
   "source": [
    "#just start"
   ]
  },
  {
   "cell_type": "markdown",
   "metadata": {},
   "source": [
    "# getting started with python\n",
    "## pranav is very curious\n",
    "* installed python\n",
    "* working on notebook for first time\n",
    "# Lets Go....uuu laaa"
   ]
  },
  {
   "cell_type": "code",
   "execution_count": 5,
   "metadata": {},
   "outputs": [],
   "source": [
    "i=4"
   ]
  },
  {
   "cell_type": "code",
   "execution_count": 6,
   "metadata": {},
   "outputs": [
    {
     "data": {
      "text/plain": [
       "int"
      ]
     },
     "execution_count": 6,
     "metadata": {},
     "output_type": "execute_result"
    }
   ],
   "source": [
    "type(i)"
   ]
  },
  {
   "cell_type": "code",
   "execution_count": 1,
   "metadata": {},
   "outputs": [
    {
     "data": {
      "text/plain": [
       "float"
      ]
     },
     "execution_count": 1,
     "metadata": {},
     "output_type": "execute_result"
    }
   ],
   "source": [
    "f=4.1\n",
    "type(f)"
   ]
  },
  {
   "cell_type": "code",
   "execution_count": 8,
   "metadata": {},
   "outputs": [
    {
     "name": "stdout",
     "output_type": "stream",
     "text": [
      "8\n"
     ]
    }
   ],
   "source": [
    "i=i+4\n",
    "print(i)"
   ]
  },
  {
   "cell_type": "code",
   "execution_count": 9,
   "metadata": {},
   "outputs": [
    {
     "name": "stdout",
     "output_type": "stream",
     "text": [
      "ilu pagal ha\n"
     ]
    }
   ],
   "source": [
    "s=\"ilu pagal ha\"\n",
    "print(s)"
   ]
  },
  {
   "cell_type": "code",
   "execution_count": 4,
   "metadata": {},
   "outputs": [
    {
     "data": {
      "text/plain": [
       "int"
      ]
     },
     "execution_count": 4,
     "metadata": {},
     "output_type": "execute_result"
    }
   ],
   "source": [
    "l=[1,2,4,3]"
   ]
  },
  {
   "cell_type": "code",
   "execution_count": 12,
   "metadata": {},
   "outputs": [
    {
     "name": "stdout",
     "output_type": "stream",
     "text": [
      "[1, 2, 4, 3]\n"
     ]
    }
   ],
   "source": [
    "print (l)"
   ]
  },
  {
   "cell_type": "code",
   "execution_count": 14,
   "metadata": {},
   "outputs": [
    {
     "name": "stdout",
     "output_type": "stream",
     "text": [
      "2\n"
     ]
    }
   ],
   "source": [
    "print (l[1])"
   ]
  },
  {
   "cell_type": "code",
   "execution_count": 15,
   "metadata": {},
   "outputs": [
    {
     "name": "stdout",
     "output_type": "stream",
     "text": [
      "1\n"
     ]
    }
   ],
   "source": [
    "print (l[0])"
   ]
  },
  {
   "cell_type": "markdown",
   "metadata": {},
   "source": [
    "# some imp things in python"
   ]
  },
  {
   "cell_type": "code",
   "execution_count": 30,
   "metadata": {},
   "outputs": [
    {
     "name": "stdout",
     "output_type": "stream",
     "text": [
      "<class 'dict'>\n",
      "mahan\n",
      "13\n"
     ]
    }
   ],
   "source": [
    "d={\"sanu\":\"mahan\" , \"ilu\":\"pagal\" , \"chicken\":10 , 12:13}\n",
    "print(type(d))\n",
    "print(d[\"sanu\"])\n",
    "print(d[12])"
   ]
  },
  {
   "cell_type": "code",
   "execution_count": 34,
   "metadata": {},
   "outputs": [
    {
     "name": "stdout",
     "output_type": "stream",
     "text": [
      "<class 'set'>\n",
      "{1, 2, 4, 5}\n",
      "{1, 2, 4, 5, 6}\n",
      "{1, 2, 4, 6}\n"
     ]
    }
   ],
   "source": [
    "a={5,1,2,4,2,2,2}\n",
    "print(type(a))\n",
    "print(a)\n",
    "a.add(6)\n",
    "print(a)\n",
    "# a.add([9,7]) only add a single value or tuple in a set and not a list\n",
    "a.remove(5)\n",
    "print(a)\n",
    "# a[0] we cant use this is sets"
   ]
  },
  {
   "cell_type": "code",
   "execution_count": 28,
   "metadata": {},
   "outputs": [
    {
     "name": "stdout",
     "output_type": "stream",
     "text": [
      "[2, 5, 3, 4, 2, 3, 3]\n",
      "<class 'list'>\n",
      "{2, 3, 4, 5}\n"
     ]
    }
   ],
   "source": [
    "a=[2,5,3,4,2,3,3]\n",
    "print(a)\n",
    "print(type(a))\n",
    "b=set(a)\n",
    "print(b)"
   ]
  },
  {
   "cell_type": "code",
   "execution_count": 20,
   "metadata": {},
   "outputs": [],
   "source": [
    "n=None"
   ]
  },
  {
   "cell_type": "code",
   "execution_count": 21,
   "metadata": {},
   "outputs": [
    {
     "data": {
      "text/plain": [
       "NoneType"
      ]
     },
     "execution_count": 21,
     "metadata": {},
     "output_type": "execute_result"
    }
   ],
   "source": [
    "type(n)"
   ]
  },
  {
   "cell_type": "code",
   "execution_count": 22,
   "metadata": {},
   "outputs": [],
   "source": [
    "# above n has no data type"
   ]
  },
  {
   "cell_type": "markdown",
   "metadata": {},
   "source": [
    "# some imp printing ways"
   ]
  },
  {
   "cell_type": "code",
   "execution_count": 23,
   "metadata": {},
   "outputs": [],
   "source": [
    "a=5\n",
    "b=3.4\n",
    "c=\"hellow\""
   ]
  },
  {
   "cell_type": "code",
   "execution_count": 24,
   "metadata": {},
   "outputs": [
    {
     "name": "stdout",
     "output_type": "stream",
     "text": [
      "a is 5 , b is 3.4 , c is hellow\n"
     ]
    }
   ],
   "source": [
    "print(\"a is %s , b is %s , c is %s\" %(a,b,c))"
   ]
  },
  {
   "cell_type": "code",
   "execution_count": 25,
   "metadata": {},
   "outputs": [],
   "source": [
    "c=3"
   ]
  },
  {
   "cell_type": "code",
   "execution_count": 26,
   "metadata": {},
   "outputs": [
    {
     "name": "stdout",
     "output_type": "stream",
     "text": [
      "a is 5 , b is 3.4 , c is 3\n"
     ]
    }
   ],
   "source": [
    "print(\"a is %s , b is %s , c is %s\" %(a,b,c))"
   ]
  },
  {
   "cell_type": "code",
   "execution_count": 27,
   "metadata": {},
   "outputs": [
    {
     "name": "stdout",
     "output_type": "stream",
     "text": [
      "a is 5 , b is 3.4 , c is hellow\n",
      "a is 5 , b is 3.4 , c is 3\n"
     ]
    }
   ],
   "source": [
    "a=5\n",
    "b=3.4\n",
    "c=\"hellow\"\n",
    "print(\"a is %s , b is %s , c is %s\" %(a,b,c))\n",
    "c=3\n",
    "print(\"a is %s , b is %s , c is %s\" %(a,b,c))"
   ]
  },
  {
   "cell_type": "code",
   "execution_count": 28,
   "metadata": {},
   "outputs": [],
   "source": [
    "# we use %s for all"
   ]
  },
  {
   "cell_type": "markdown",
   "metadata": {},
   "source": [
    "# conditional statements\n",
    "\n"
   ]
  },
  {
   "cell_type": "code",
   "execution_count": 29,
   "metadata": {},
   "outputs": [
    {
     "name": "stdout",
     "output_type": "stream",
     "text": [
      "yes\n"
     ]
    }
   ],
   "source": [
    "if(a==5 and b>2):\n",
    "    print (\"yes\")\n",
    "else:\n",
    "    print (\"No\")"
   ]
  },
  {
   "cell_type": "code",
   "execution_count": 25,
   "metadata": {},
   "outputs": [
    {
     "name": "stdout",
     "output_type": "stream",
     "text": [
      "yes\n",
      "five\n"
     ]
    }
   ],
   "source": [
    "if(a==5 or b>2):\n",
    "    print (\"yes\")\n",
    "else:\n",
    "    print (\"No\")\n",
    "    \n",
    "#IMP dont write else if in python , write elif instead\n",
    "x=5\n",
    "if(x==4):\n",
    "    print(\"four\")\n",
    "elif(x==5):\n",
    "    print(\"five\")\n",
    "else:\n",
    "    print(\"no idea\")"
   ]
  },
  {
   "cell_type": "code",
   "execution_count": 32,
   "metadata": {},
   "outputs": [],
   "source": [
    "# we use and/or instead of &&/\\\\"
   ]
  },
  {
   "cell_type": "markdown",
   "metadata": {},
   "source": [
    "# conditional loops"
   ]
  },
  {
   "cell_type": "code",
   "execution_count": 33,
   "metadata": {},
   "outputs": [
    {
     "name": "stdout",
     "output_type": "stream",
     "text": [
      "[1, 2, 4, 3]\n"
     ]
    }
   ],
   "source": [
    "print(l)"
   ]
  },
  {
   "cell_type": "code",
   "execution_count": 34,
   "metadata": {},
   "outputs": [
    {
     "name": "stdout",
     "output_type": "stream",
     "text": [
      "1\n",
      "2\n",
      "4\n",
      "3\n"
     ]
    }
   ],
   "source": [
    "for e in l:\n",
    "    print(e)"
   ]
  },
  {
   "cell_type": "code",
   "execution_count": 39,
   "metadata": {},
   "outputs": [
    {
     "name": "stdout",
     "output_type": "stream",
     "text": [
      "6\n",
      "8\n"
     ]
    }
   ],
   "source": [
    "temp=6\n",
    "while(temp<10):\n",
    "    print(temp)\n",
    "    temp=temp+1\n",
    "    temp+=1"
   ]
  },
  {
   "cell_type": "code",
   "execution_count": 40,
   "metadata": {},
   "outputs": [],
   "source": [
    "#temp++ or ++temp is wrong in pyhton, use temp+=1 or temp=temp+1"
   ]
  },
  {
   "cell_type": "markdown",
   "metadata": {},
   "source": [
    "# creating functions in python"
   ]
  },
  {
   "cell_type": "code",
   "execution_count": 4,
   "metadata": {},
   "outputs": [
    {
     "name": "stdout",
     "output_type": "stream",
     "text": [
      "3\n"
     ]
    }
   ],
   "source": [
    "def add(a,b):\n",
    "    c=a+b\n",
    "    return c\n",
    "h=1 \n",
    "k=2\n",
    "ans=add(h,k)\n",
    "print(ans)"
   ]
  },
  {
   "cell_type": "code",
   "execution_count": 5,
   "metadata": {},
   "outputs": [
    {
     "data": {
      "text/plain": [
       "3"
      ]
     },
     "execution_count": 5,
     "metadata": {},
     "output_type": "execute_result"
    }
   ],
   "source": [
    "def add(a,b):\n",
    "    c=a+b\n",
    "    return c\n",
    "h=1 \n",
    "k=2\n",
    "add(h,k)"
   ]
  },
  {
   "cell_type": "code",
   "execution_count": 1,
   "metadata": {},
   "outputs": [],
   "source": [
    "# first one is giving output\n",
    "#second prints for users reference"
   ]
  },
  {
   "cell_type": "code",
   "execution_count": 13,
   "metadata": {},
   "outputs": [
    {
     "name": "stdout",
     "output_type": "stream",
     "text": [
      "8\n",
      "3.3333333333333335\n",
      "3\n",
      "3.0\n"
     ]
    }
   ],
   "source": [
    "# in python ** denotes power\n",
    "# / give value in int or float\n",
    "# // gives values in int only\n",
    "a=2**3\n",
    "print(a)\n",
    "b=10/3\n",
    "c=10//3\n",
    "d=10.0//3\n",
    "print(b)\n",
    "print(c)\n",
    "print(d)"
   ]
  },
  {
   "cell_type": "code",
   "execution_count": 35,
   "metadata": {},
   "outputs": [
    {
     "name": "stdout",
     "output_type": "stream",
     "text": [
      "Enter a number5\n",
      "<class 'str'>\n",
      "6\n"
     ]
    }
   ],
   "source": [
    "a=input(\"Enter a number\")\n",
    "print(type(a))\n",
    "print(int(a)+1)"
   ]
  },
  {
   "cell_type": "code",
   "execution_count": 7,
   "metadata": {},
   "outputs": [
    {
     "name": "stdout",
     "output_type": "stream",
     "text": [
      "Enter a number5\n"
     ]
    },
    {
     "ename": "TypeError",
     "evalue": "can only concatenate str (not \"int\") to str",
     "output_type": "error",
     "traceback": [
      "\u001b[0;31m---------------------------------------------------------------------------\u001b[0m",
      "\u001b[0;31mTypeError\u001b[0m                                 Traceback (most recent call last)",
      "\u001b[0;32m<ipython-input-7-c06b4d96a8b3>\u001b[0m in \u001b[0;36m<module>\u001b[0;34m\u001b[0m\n\u001b[1;32m      1\u001b[0m \u001b[0ma\u001b[0m\u001b[0;34m=\u001b[0m\u001b[0minput\u001b[0m\u001b[0;34m(\u001b[0m\u001b[0;34m\"Enter a number\"\u001b[0m\u001b[0;34m)\u001b[0m\u001b[0;34m\u001b[0m\u001b[0;34m\u001b[0m\u001b[0m\n\u001b[0;32m----> 2\u001b[0;31m \u001b[0mprint\u001b[0m\u001b[0;34m(\u001b[0m\u001b[0ma\u001b[0m\u001b[0;34m+\u001b[0m\u001b[0;36m1\u001b[0m\u001b[0;34m)\u001b[0m\u001b[0;34m\u001b[0m\u001b[0;34m\u001b[0m\u001b[0m\n\u001b[0m",
      "\u001b[0;31mTypeError\u001b[0m: can only concatenate str (not \"int\") to str"
     ]
    }
   ],
   "source": [
    "#it is wrong as input is always entered in string thus typecasting is necessary\n",
    "a=input(\"Enter a number\")\n",
    "print(a+1)"
   ]
  },
  {
   "cell_type": "code",
   "execution_count": 8,
   "metadata": {},
   "outputs": [
    {
     "ename": "SyntaxError",
     "evalue": "invalid syntax (<ipython-input-8-37acc0516080>, line 3)",
     "output_type": "error",
     "traceback": [
      "\u001b[0;36m  File \u001b[0;32m\"<ipython-input-8-37acc0516080>\"\u001b[0;36m, line \u001b[0;32m3\u001b[0m\n\u001b[0;31m    print((int)a+1)\u001b[0m\n\u001b[0m               ^\u001b[0m\n\u001b[0;31mSyntaxError\u001b[0m\u001b[0;31m:\u001b[0m invalid syntax\n"
     ]
    }
   ],
   "source": [
    "#wrong way of type casting for python\n",
    "a=input(\"Enter a number\")\n",
    "print((int)a+1)"
   ]
  },
  {
   "cell_type": "code",
   "execution_count": 17,
   "metadata": {},
   "outputs": [
    {
     "name": "stdout",
     "output_type": "stream",
     "text": [
      "hellow\thellow\thellow\thellow\thellow\thellow\thellow\thellow\thellow\thellow\t\n"
     ]
    }
   ],
   "source": [
    "print(\"hellow\\t\"*10)"
   ]
  },
  {
   "cell_type": "code",
   "execution_count": 18,
   "metadata": {},
   "outputs": [
    {
     "name": "stdout",
     "output_type": "stream",
     "text": [
      "hellow\n",
      "hellow\n",
      "hellow\n",
      "hellow\n",
      "hellow\n",
      "hellow\n",
      "hellow\n",
      "hellow\n",
      "hellow\n",
      "hellow\n",
      "\n"
     ]
    }
   ],
   "source": [
    "print(\"hellow\\n\"*10)"
   ]
  },
  {
   "cell_type": "code",
   "execution_count": 19,
   "metadata": {},
   "outputs": [
    {
     "name": "stdout",
     "output_type": "stream",
     "text": [
      "hellowhellowhellowhellowhellowhellowhellowhellowhellowhellow\n"
     ]
    }
   ],
   "source": [
    "print(\"hellow\"*10)"
   ]
  },
  {
   "cell_type": "code",
   "execution_count": 20,
   "metadata": {},
   "outputs": [
    {
     "name": "stdout",
     "output_type": "stream",
     "text": [
      "Enter a number4\n"
     ]
    },
    {
     "data": {
      "text/plain": [
       "4"
      ]
     },
     "execution_count": 20,
     "metadata": {},
     "output_type": "execute_result"
    }
   ],
   "source": [
    "#thus we do type casting for input in non string\n",
    "a=int(input(\"Enter a number\"))\n",
    "a"
   ]
  },
  {
   "cell_type": "code",
   "execution_count": 28,
   "metadata": {},
   "outputs": [
    {
     "name": "stdout",
     "output_type": "stream",
     "text": [
      "Enter a number4\n"
     ]
    }
   ],
   "source": [
    "try:\n",
    "    val=float(input(\"Enter a number\"))\n",
    "except:\n",
    "    print(\"Please enter a valid number, this is your last chance\")\n",
    "    val=float(input(\"Enter a number\"))"
   ]
  },
  {
   "cell_type": "code",
   "execution_count": 29,
   "metadata": {},
   "outputs": [
    {
     "name": "stdout",
     "output_type": "stream",
     "text": [
      "Enter a numberee\n",
      "Please enter a valid number, this is your last chance\n",
      "Enter a number4\n"
     ]
    }
   ],
   "source": [
    "try:\n",
    "    val=float(input(\"Enter a number\"))\n",
    "except:\n",
    "    print(\"Please enter a valid number, this is your last chance\")\n",
    "    val=float(input(\"Enter a number\"))"
   ]
  },
  {
   "cell_type": "code",
   "execution_count": 30,
   "metadata": {},
   "outputs": [
    {
     "name": "stdout",
     "output_type": "stream",
     "text": [
      "Enter a numberrr\n",
      "Please enter a valid number, this is your last chance\n",
      "Enter a numberee\n"
     ]
    },
    {
     "ename": "ValueError",
     "evalue": "could not convert string to float: 'ee'",
     "output_type": "error",
     "traceback": [
      "\u001b[0;31m---------------------------------------------------------------------------\u001b[0m",
      "\u001b[0;31mValueError\u001b[0m                                Traceback (most recent call last)",
      "\u001b[0;32m<ipython-input-30-65f9b944f3ec>\u001b[0m in \u001b[0;36m<module>\u001b[0;34m\u001b[0m\n\u001b[1;32m      1\u001b[0m \u001b[0;32mtry\u001b[0m\u001b[0;34m:\u001b[0m\u001b[0;34m\u001b[0m\u001b[0;34m\u001b[0m\u001b[0m\n\u001b[0;32m----> 2\u001b[0;31m     \u001b[0mval\u001b[0m\u001b[0;34m=\u001b[0m\u001b[0mfloat\u001b[0m\u001b[0;34m(\u001b[0m\u001b[0minput\u001b[0m\u001b[0;34m(\u001b[0m\u001b[0;34m\"Enter a number\"\u001b[0m\u001b[0;34m)\u001b[0m\u001b[0;34m)\u001b[0m\u001b[0;34m\u001b[0m\u001b[0;34m\u001b[0m\u001b[0m\n\u001b[0m\u001b[1;32m      3\u001b[0m \u001b[0;32mexcept\u001b[0m\u001b[0;34m:\u001b[0m\u001b[0;34m\u001b[0m\u001b[0;34m\u001b[0m\u001b[0m\n",
      "\u001b[0;31mValueError\u001b[0m: could not convert string to float: 'rr'",
      "\nDuring handling of the above exception, another exception occurred:\n",
      "\u001b[0;31mValueError\u001b[0m                                Traceback (most recent call last)",
      "\u001b[0;32m<ipython-input-30-65f9b944f3ec>\u001b[0m in \u001b[0;36m<module>\u001b[0;34m\u001b[0m\n\u001b[1;32m      3\u001b[0m \u001b[0;32mexcept\u001b[0m\u001b[0;34m:\u001b[0m\u001b[0;34m\u001b[0m\u001b[0;34m\u001b[0m\u001b[0m\n\u001b[1;32m      4\u001b[0m     \u001b[0mprint\u001b[0m\u001b[0;34m(\u001b[0m\u001b[0;34m\"Please enter a valid number, this is your last chance\"\u001b[0m\u001b[0;34m)\u001b[0m\u001b[0;34m\u001b[0m\u001b[0;34m\u001b[0m\u001b[0m\n\u001b[0;32m----> 5\u001b[0;31m     \u001b[0mval\u001b[0m\u001b[0;34m=\u001b[0m\u001b[0mfloat\u001b[0m\u001b[0;34m(\u001b[0m\u001b[0minput\u001b[0m\u001b[0;34m(\u001b[0m\u001b[0;34m\"Enter a number\"\u001b[0m\u001b[0;34m)\u001b[0m\u001b[0;34m)\u001b[0m\u001b[0;34m\u001b[0m\u001b[0;34m\u001b[0m\u001b[0m\n\u001b[0m",
      "\u001b[0;31mValueError\u001b[0m: could not convert string to float: 'ee'"
     ]
    }
   ],
   "source": [
    "try:\n",
    "    val=float(input(\"Enter a number\"))\n",
    "except:\n",
    "    print(\"Please enter a valid number, this is your last chance\")\n",
    "    val=float(input(\"Enter a number\"))"
   ]
  },
  {
   "cell_type": "code",
   "execution_count": 32,
   "metadata": {},
   "outputs": [
    {
     "name": "stdout",
     "output_type": "stream",
     "text": [
      "w\n",
      "6\n"
     ]
    }
   ],
   "source": [
    "a=max(\"hellow world\")\n",
    "print(a)\n",
    "b=max(2,6)\n",
    "print(b)"
   ]
  },
  {
   "cell_type": "code",
   "execution_count": 53,
   "metadata": {},
   "outputs": [
    {
     "name": "stdout",
     "output_type": "stream",
     "text": [
      "[1, 2, 3, 4, 5, 6]\n",
      "[1, 2, 3, 4, 5, 6, 3]\n",
      "[1, 3, 4, 5, 6, 3]\n",
      "[1, 4, 5, 6, 3]\n",
      "5\n"
     ]
    }
   ],
   "source": [
    "x=[1,2,3,4,6,5]\n",
    "x.sort()\n",
    "print(x)\n",
    "x.append(3)\n",
    "print(x)\n",
    "x.remove(2)\n",
    "print(x)\n",
    "x.remove(3)\n",
    "#here first 3 is removed\n",
    "print(x)\n",
    "#use help(x) or dir(x) command to know more functions\n",
    "# print(x.length()) this is wrong\n",
    "print(len(x))"
   ]
  },
  {
   "cell_type": "code",
   "execution_count": 48,
   "metadata": {},
   "outputs": [
    {
     "data": {
      "text/plain": [
       "8"
      ]
     },
     "execution_count": 48,
     "metadata": {},
     "output_type": "execute_result"
    }
   ],
   "source": [
    "max([4,8,2,0,7,1])"
   ]
  },
  {
   "cell_type": "code",
   "execution_count": 58,
   "metadata": {},
   "outputs": [
    {
     "name": "stdout",
     "output_type": "stream",
     "text": [
      "1\n"
     ]
    }
   ],
   "source": [
    "smallest = None\n",
    "for value in [1,3,7,2,9]:\n",
    "    if smallest is None:\n",
    "# \"is\" and \"is not\" are 2 different operators\n",
    "# \"is\" denotes == , \"is not\" denotes !=\n",
    "        smallest=value\n",
    "    elif smallest>value:\n",
    "        smallest=value\n",
    "print(smallest)\n"
   ]
  },
  {
   "cell_type": "code",
   "execution_count": 59,
   "metadata": {},
   "outputs": [
    {
     "data": {
      "text/plain": [
       "True"
      ]
     },
     "execution_count": 59,
     "metadata": {},
     "output_type": "execute_result"
    }
   ],
   "source": [
    "a=None\n",
    "a is None\n"
   ]
  },
  {
   "cell_type": "code",
   "execution_count": 60,
   "metadata": {},
   "outputs": [
    {
     "data": {
      "text/plain": [
       "False"
      ]
     },
     "execution_count": 60,
     "metadata": {},
     "output_type": "execute_result"
    }
   ],
   "source": [
    "b=''\n",
    "b is None"
   ]
  },
  {
   "cell_type": "code",
   "execution_count": 62,
   "metadata": {},
   "outputs": [
    {
     "ename": "NameError",
     "evalue": "name 'z' is not defined",
     "output_type": "error",
     "traceback": [
      "\u001b[0;31m---------------------------------------------------------------------------\u001b[0m",
      "\u001b[0;31mNameError\u001b[0m                                 Traceback (most recent call last)",
      "\u001b[0;32m<ipython-input-62-9a86c62b393e>\u001b[0m in \u001b[0;36m<module>\u001b[0;34m\u001b[0m\n\u001b[0;32m----> 1\u001b[0;31m \u001b[0mz\u001b[0m\u001b[0;34m\u001b[0m\u001b[0;34m\u001b[0m\u001b[0m\n\u001b[0m\u001b[1;32m      2\u001b[0m \u001b[0mz\u001b[0m \u001b[0;32mis\u001b[0m \u001b[0;32mNone\u001b[0m\u001b[0;34m\u001b[0m\u001b[0;34m\u001b[0m\u001b[0m\n",
      "\u001b[0;31mNameError\u001b[0m: name 'z' is not defined"
     ]
    }
   ],
   "source": [
    "z\n",
    "z is None"
   ]
  },
  {
   "cell_type": "code",
   "execution_count": 76,
   "metadata": {},
   "outputs": [
    {
     "name": "stdout",
     "output_type": "stream",
     "text": [
      "0\n",
      "1\n",
      "2\n",
      "3\n",
      "4\n",
      "5\n",
      "6\n",
      "d\n",
      "abcde"
     ]
    }
   ],
   "source": [
    "for i in range(0,7):\n",
    "    print(i)\n",
    "#for printing in same line\n",
    "import sys\n",
    "c='a'\n",
    "x=chr(ord(c[0])+3)\n",
    "# above line is to increment a character\n",
    "# c is a string thus c[0] was used for first character\n",
    "print(x)\n",
    "for i in range(0,5):\n",
    "    sys.stdout.write(c)\n",
    "    #above line is for printing in same line\n",
    "    c=chr(ord(c[0])+1)"
   ]
  },
  {
   "cell_type": "code",
   "execution_count": 87,
   "metadata": {},
   "outputs": [
    {
     "name": "stdout",
     "output_type": "stream",
     "text": [
      "012"
     ]
    }
   ],
   "source": [
    "import sys\n",
    "for i in range(0,3):\n",
    "    sys.stdout.write(str(i))\n",
    "    #thus it only works for string"
   ]
  },
  {
   "cell_type": "code",
   "execution_count": 86,
   "metadata": {},
   "outputs": [
    {
     "name": "stdout",
     "output_type": "stream",
     "text": [
      "hell\n",
      "w wor\n",
      "d\n",
      "hell\n",
      "hellow world\n",
      "llow world\n"
     ]
    }
   ],
   "source": [
    "s='hellow world'\n",
    "print(s[0:4])\n",
    "print(s[5:10])\n",
    "print(s[11:20])\n",
    "print(s[:4])\n",
    "print(s[:])\n",
    "print(s[2:])"
   ]
  },
  {
   "cell_type": "code",
   "execution_count": 96,
   "metadata": {},
   "outputs": [
    {
     "name": "stdout",
     "output_type": "stream",
     "text": [
      "True\n",
      "True\n",
      "False\n",
      "True\n",
      "80\n"
     ]
    }
   ],
   "source": [
    "fr='banana'\n",
    "print('a' in fr)\n",
    "print('ana' in fr)\n",
    "print('aa' in fr)\n",
    "print('pranav'<'tushar')\n",
    "print(ord('P'))"
   ]
  },
  {
   "cell_type": "markdown",
   "metadata": {},
   "source": [
    "# Lambda function"
   ]
  },
  {
   "cell_type": "code",
   "execution_count": 100,
   "metadata": {},
   "outputs": [
    {
     "name": "stdout",
     "output_type": "stream",
     "text": [
      "7\n"
     ]
    }
   ],
   "source": [
    "sum = lambda x,y : x+y\n",
    "print(sum(2,5))"
   ]
  },
  {
   "cell_type": "code",
   "execution_count": 99,
   "metadata": {},
   "outputs": [
    {
     "ename": "SyntaxError",
     "evalue": "invalid syntax (<ipython-input-99-088002609b76>, line 2)",
     "output_type": "error",
     "traceback": [
      "\u001b[0;36m  File \u001b[0;32m\"<ipython-input-99-088002609b76>\"\u001b[0;36m, line \u001b[0;32m2\u001b[0m\n\u001b[0;31m    sum = lambda x,y:\u001b[0m\n\u001b[0m                     ^\u001b[0m\n\u001b[0;31mSyntaxError\u001b[0m\u001b[0;31m:\u001b[0m invalid syntax\n"
     ]
    }
   ],
   "source": [
    "# we have define lambda function in one line\n",
    "sum = lambda x,y:\n",
    "    x+y"
   ]
  },
  {
   "cell_type": "markdown",
   "metadata": {},
   "source": [
    "# Dictionaries"
   ]
  },
  {
   "cell_type": "code",
   "execution_count": 5,
   "metadata": {},
   "outputs": [
    {
     "name": "stdout",
     "output_type": "stream",
     "text": [
      "{'money': 12, 'candey': 3, 'tissues': 75}\n",
      "3\n",
      "{'money': 12, 'candey': 5, 'tissues': 75}\n",
      "{'sanu': 1, 'ilu': 3, 'pranav': 5}\n",
      "dict_keys(['money', 'candey', 'tissues'])\n",
      "dict_values([12, 5, 75])\n"
     ]
    }
   ],
   "source": [
    "purse=dict()\n",
    "purse['money']=12\n",
    "purse['candey']=3\n",
    "purse['tissues']=75\n",
    "print(purse)\n",
    "print(purse['candey'])\n",
    "purse['candey']+=2\n",
    "print(purse)\n",
    "#another way of using dictionary\n",
    "ddd={'sanu': 1, 'ilu': 3, 'pranav': 5}\n",
    "print(ddd)\n",
    "print(purse.keys())\n",
    "print(purse.values())"
   ]
  },
  {
   "cell_type": "code",
   "execution_count": 9,
   "metadata": {},
   "outputs": [
    {
     "name": "stdout",
     "output_type": "stream",
     "text": [
      "True\n",
      "False\n"
     ]
    }
   ],
   "source": [
    "print('ilu' in ddd)\n",
    "print('budhhu' in ddd)"
   ]
  },
  {
   "cell_type": "code",
   "execution_count": 12,
   "metadata": {},
   "outputs": [
    {
     "name": "stdout",
     "output_type": "stream",
     "text": [
      "{'sanu': 2, 'ilu': 2, 'vatsal': 1}\n"
     ]
    }
   ],
   "source": [
    "counts=dict()\n",
    "names=['sanu','ilu','ilu','vatsal','sanu']\n",
    "for i in names:\n",
    "    #counts[i]=counts[i]+1\n",
    "    #above is wrong since if some word is going to be initialized first time will throw error\n",
    "    counts[i]=counts.get(i,0)+1\n",
    "    #the above line means is that word is already insialized then increment it by 1 otherwise initialize it with 0\n",
    "print(counts)"
   ]
  },
  {
   "cell_type": "code",
   "execution_count": 14,
   "metadata": {},
   "outputs": [
    {
     "name": "stdout",
     "output_type": "stream",
     "text": [
      "['pranav', 'is', 'a', 'good', 'boy']\n"
     ]
    }
   ],
   "source": [
    "a='pranav is a good boy'\n",
    "b=a.split()\n",
    "print(b)"
   ]
  },
  {
   "cell_type": "markdown",
   "metadata": {},
   "source": [
    "# Tuples\n"
   ]
  },
  {
   "cell_type": "code",
   "execution_count": 21,
   "metadata": {},
   "outputs": [
    {
     "name": "stdout",
     "output_type": "stream",
     "text": [
      "(3, 2, 6)\n",
      "2\n",
      "6\n",
      "2\n"
     ]
    }
   ],
   "source": [
    "#tuples are similar to lists\n",
    "y=(3,2,6)\n",
    "print(y)\n",
    "print(y[1])\n",
    "print(max(y))\n",
    "print(min(y))"
   ]
  },
  {
   "cell_type": "code",
   "execution_count": 20,
   "metadata": {},
   "outputs": [
    {
     "ename": "TypeError",
     "evalue": "'tuple' object does not support item assignment",
     "output_type": "error",
     "traceback": [
      "\u001b[0;31m---------------------------------------------------------------------------\u001b[0m",
      "\u001b[0;31mTypeError\u001b[0m                                 Traceback (most recent call last)",
      "\u001b[0;32m<ipython-input-20-0a5f3c161170>\u001b[0m in \u001b[0;36m<module>\u001b[0;34m\u001b[0m\n\u001b[1;32m      1\u001b[0m \u001b[0my\u001b[0m\u001b[0;34m=\u001b[0m\u001b[0;34m(\u001b[0m\u001b[0;36m3\u001b[0m\u001b[0;34m,\u001b[0m\u001b[0;36m2\u001b[0m\u001b[0;34m,\u001b[0m\u001b[0;36m6\u001b[0m\u001b[0;34m)\u001b[0m\u001b[0;34m\u001b[0m\u001b[0;34m\u001b[0m\u001b[0m\n\u001b[0;32m----> 2\u001b[0;31m \u001b[0my\u001b[0m\u001b[0;34m[\u001b[0m\u001b[0;36m0\u001b[0m\u001b[0;34m]\u001b[0m\u001b[0;34m=\u001b[0m\u001b[0;36m7\u001b[0m\u001b[0;34m\u001b[0m\u001b[0;34m\u001b[0m\u001b[0m\n\u001b[0m\u001b[1;32m      3\u001b[0m \u001b[0mprint\u001b[0m\u001b[0;34m(\u001b[0m\u001b[0my\u001b[0m\u001b[0;34m)\u001b[0m\u001b[0;34m\u001b[0m\u001b[0;34m\u001b[0m\u001b[0m\n",
      "\u001b[0;31mTypeError\u001b[0m: 'tuple' object does not support item assignment"
     ]
    }
   ],
   "source": [
    "#tuples are immutable i.e you cannot change the value of tuple once defined\n",
    "y=(3,2,6)\n",
    "y[0]=7\n",
    "print(y)"
   ]
  },
  {
   "cell_type": "code",
   "execution_count": 23,
   "metadata": {},
   "outputs": [],
   "source": [
    "# in list there are several functions like\n",
    "#append,count,extend,index,insert,pop,remove,reverse,sort\n",
    "#in tuple only count and index can be used\n",
    "#Thus in general using list is better\n",
    "#list []\n",
    "#tuples ()\n",
    "#dictonart {}"
   ]
  },
  {
   "cell_type": "code",
   "execution_count": 28,
   "metadata": {},
   "outputs": [
    {
     "name": "stdout",
     "output_type": "stream",
     "text": [
      "4\n",
      "6\n"
     ]
    }
   ],
   "source": [
    "(x,y)=(4,'word')\n",
    "print(x)\n",
    "x=6\n",
    "print(x)\n",
    "#it this way we can change values\n",
    "#we can also make list of tuples (eg- in case of several coordinates)"
   ]
  },
  {
   "cell_type": "code",
   "execution_count": 5,
   "metadata": {},
   "outputs": [
    {
     "name": "stdout",
     "output_type": "stream",
     "text": [
      "1 2 3\n",
      "1 2 3\n",
      "1 2 3\n",
      "1 2 3\n"
     ]
    }
   ],
   "source": [
    "#both tuples or list can be used like this\n",
    "(x,y,z)=(1,2,3)\n",
    "print(x,y,z)\n",
    "\n",
    "[x,y,z]=(1,2,3)\n",
    "print(x,y,z)\n",
    "\n",
    "(x,y,z)=[1,2,3]\n",
    "print(x,y,z)\n",
    "\n",
    "[x,y,z]=[1,2,3]\n",
    "print(x,y,z)"
   ]
  },
  {
   "cell_type": "code",
   "execution_count": 6,
   "metadata": {},
   "outputs": [
    {
     "data": {
      "text/plain": [
       "True"
      ]
     },
     "execution_count": 6,
     "metadata": {},
     "output_type": "execute_result"
    }
   ],
   "source": [
    "# it checks from from first number\n",
    "(0,1,2,4,5,5)<(1,0)"
   ]
  },
  {
   "cell_type": "markdown",
   "metadata": {},
   "source": [
    "# Regular expression"
   ]
  },
  {
   "cell_type": "code",
   "execution_count": 9,
   "metadata": {},
   "outputs": [
    {
     "name": "stdout",
     "output_type": "stream",
     "text": [
      "# If modifying these scopes, delete your previously saved credentials\n",
      "    If nothing has been stored, or if the stored credentials are invalid,\n",
      "    if not os.path.exists(credential_dir):\n",
      "    if not credentials or credentials.invalid:\n",
      "        if flags:\n",
      "    if not overwrite:\n",
      "        if os.path.exists(file):\n",
      "if __name__ == \"__main__\":\n"
     ]
    }
   ],
   "source": [
    "import re\n",
    "hand=open('test.txt')\n",
    "for i in hand:\n",
    "    i=i.rstrip()\n",
    "    if(re.search('if',i)):\n",
    "        print(i)"
   ]
  },
  {
   "cell_type": "code",
   "execution_count": 19,
   "metadata": {},
   "outputs": [
    {
     "name": "stdout",
     "output_type": "stream",
     "text": [
      "['2', '17', '19']\n",
      "['a', 'a', 'a']\n",
      "['my', 'favourite', 'numbers', 'are', 'and']\n"
     ]
    },
    {
     "data": {
      "text/plain": [
       "['a', 'aa', 'aaa', 'a', 'aaaa']"
      ]
     },
     "execution_count": 19,
     "metadata": {},
     "output_type": "execute_result"
    }
   ],
   "source": [
    "import re\n",
    "x='my 2 favourite numbers are 17 and 19'\n",
    "y=re.findall('[0-9]+',x)\n",
    "z=re.findall('a',x)\n",
    "l=re.findall('[a-z]+',x)\n",
    "print(y)\n",
    "print(z)\n",
    "print(l)\n",
    "print(re.findall('a+','a is aa in aaa and thus aaaa'))"
   ]
  },
  {
   "cell_type": "code",
   "execution_count": 23,
   "metadata": {},
   "outputs": [
    {
     "name": "stdout",
     "output_type": "stream",
     "text": [
      "10 * 20 = 200\n",
      "10*20=200\n",
      "10*20=200\n",
      "10*20=200\n"
     ]
    }
   ],
   "source": [
    "x=10\n",
    "y=20\n",
    "print(x,\"*\",y,\"=\",x*y)\n",
    "#if we want to print in string\n",
    "print(str(x)+\"*\"+str(y)+\"=\"+str(x*y))\n",
    "#or\n",
    "print(\"{0}*{1}={2}\".format(x,y,x*y))\n",
    "#or\n",
    "print(\"%d*%d=%d\"%(x,y,x*y))"
   ]
  },
  {
   "cell_type": "code",
   "execution_count": 24,
   "metadata": {},
   "outputs": [],
   "source": [
    "#go to the url below for more formats\n",
    "#https://pyformat.info/"
   ]
  },
  {
   "cell_type": "markdown",
   "metadata": {},
   "source": [
    "# Classes"
   ]
  },
  {
   "cell_type": "code",
   "execution_count": 43,
   "metadata": {},
   "outputs": [
    {
     "name": "stdout",
     "output_type": "stream",
     "text": [
      "So far 4\n",
      "So far 8\n",
      "8\n",
      "So far 3\n",
      "<class '__main__.Partyanimal'>\n"
     ]
    }
   ],
   "source": [
    "class Partyanimal:\n",
    "    x=0\n",
    "#self is there for using the variable declared in the class but outside the function\n",
    "#afterward anything like add will be taken from the user \n",
    "    def party(self,add):\n",
    "        self.x=self.x+add;\n",
    "        print(\"So far\",self.x)\n",
    "    def prit(paa):\n",
    "        print(paa.x)\n",
    "#self and paa are just names , actually x is changing\n",
    "#we can,t directly pass and change x\n",
    "\n",
    "an=Partyanimal()\n",
    "an.party(4)\n",
    "an.party(4)\n",
    "an.prit()\n",
    "\n",
    "so=Partyanimal()\n",
    "so.party(3)\n",
    "\n",
    "\n",
    "print(type(an))\n",
    "#its datatype is Partyanimal which we created    "
   ]
  },
  {
   "cell_type": "code",
   "execution_count": 46,
   "metadata": {},
   "outputs": [
    {
     "name": "stdout",
     "output_type": "stream",
     "text": [
      "This will be printed always when this class is used without calling any function inside it\n",
      "This will work always after the constructor\n",
      "So far 1\n"
     ]
    }
   ],
   "source": [
    "class Partyanimal:\n",
    "    x=0\n",
    "    \n",
    "    #constructor\n",
    "    def __init__(self):\n",
    "        print(\"This will be printed always when this class is used without calling any function inside it\")\n",
    "        \n",
    "    def party(self):\n",
    "        self.x=self.x+1;\n",
    "        print(\"So far\",self.x)\n",
    "        \n",
    "    #distructor \n",
    "    def __del__(self):\n",
    "        print(\"This will work always after the constructor\")\n",
    "        \n",
    "an=Partyanimal()\n",
    "an.party()"
   ]
  },
  {
   "cell_type": "code",
   "execution_count": 55,
   "metadata": {},
   "outputs": [
    {
     "name": "stdout",
     "output_type": "stream",
     "text": [
      "So far 2\n",
      "So far 2\n",
      "New 8\n"
     ]
    }
   ],
   "source": [
    "class Partyanimal:\n",
    "    x=0 \n",
    "    def party(self,add):\n",
    "        self.x=self.x+add;\n",
    "        print(\"So far\",self.x)\n",
    "        \n",
    "#inheritance i.e adding a fuction to the class party animal\n",
    "class football(Partyanimal):\n",
    "    points=7\n",
    "    def moreparty(self):\n",
    "        self.points+=1\n",
    "        print(\"New\",self.points)\n",
    "        \n",
    "a=Partyanimal()\n",
    "a.party(2)\n",
    "\n",
    "b=football()\n",
    "b.party(2)\n",
    "b.moreparty()\n",
    "#in fisrt class we can use the functions in it\n",
    "#in second class we can use the functions of both first and second classes"
   ]
  },
  {
   "cell_type": "code",
   "execution_count": 59,
   "metadata": {},
   "outputs": [],
   "source": []
  }
 ],
 "metadata": {
  "kernelspec": {
   "display_name": "Python 3",
   "language": "python",
   "name": "python3"
  },
  "language_info": {
   "codemirror_mode": {
    "name": "ipython",
    "version": 3
   },
   "file_extension": ".py",
   "mimetype": "text/x-python",
   "name": "python",
   "nbconvert_exporter": "python",
   "pygments_lexer": "ipython3",
   "version": "3.8.3"
  }
 },
 "nbformat": 4,
 "nbformat_minor": 4
}
